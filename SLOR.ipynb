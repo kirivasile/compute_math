{
 "cells": [
  {
   "cell_type": "markdown",
   "metadata": {},
   "source": [
    "Implementation of Successive Line Overrelaxation algorithm used for solving two-dimensional heat equation.\n",
    "$$\\frac{\\partial \\phi}{\\partial t} = \\frac{\\partial}{\\partial x}(\\lambda_{x}\\frac{\\partial \\phi}{\\partial x}) + \\frac{\\partial}{\\partial y}(\\lambda_{y}\\frac{\\partial \\phi}{\\partial y})$$"
   ]
  },
  {
   "cell_type": "code",
   "execution_count": 1,
   "metadata": {
    "collapsed": true
   },
   "outputs": [],
   "source": [
    "import numpy as np"
   ]
  },
  {
   "cell_type": "code",
   "execution_count": null,
   "metadata": {
    "collapsed": true
   },
   "outputs": [],
   "source": [
    "class SLOR:\n",
    "    def __init__(self, vx, vy, NX, NY, SizeX, SizeY, dt, t_max, eps=0.01):\n",
    "        \"\"\"\n",
    "            vx, xy: lambda parameters of equation\n",
    "            NX, NY: number of nodes of x y\n",
    "            SizeX, SizeY: size of grid\n",
    "            dt : time-step\n",
    "            t_max: max_time\n",
    "            eps: maximum convergence relative error\n",
    "        \"\"\"\n",
    "        self.vx, self.vy = vx, vy\n",
    "        self.NX, self.NY = NX, NY\n",
    "        self.SizeX, self.SizeY = SizeX, SizeY\n",
    "        self.dt = dt\n",
    "        self.t_max = t_max\n",
    "        self.eps = eps\n",
    "        \n",
    "    def convert(i , j):\n",
    "        \"\"\"\n",
    "            This function maps indexes (i,j) to coordinates (x_i, y_i)\n",
    "            0 < i,j < self.NX, self.NY\n",
    "        \"\"\"\n",
    "        return float(i) / self.NX, float(j) / self.NY\n",
    "    \n",
    "    def solve(self, start_phi, border_phi):\n",
    "        \"\"\"\n",
    "            start_phi: starting conditions, function from two parameters\n",
    "            border_phi: border conditions, function from three conditions\n",
    "        \"\"\"\n",
    "        # Creating grid\n",
    "        dx = SizeX / NX\n",
    "        dy = SizeY / NY\n",
    "        # Coefficients\n",
    "        TX = vx / dx ** 2\n",
    "        TY = vy / dy ** 2\n",
    "        \n",
    "        b, c = np.full((self.NX, self.NY), -TX, dtype=float)\n",
    "        f, g = np.full((self.NX, self.NY), -TY, dtype=float)\n",
    "        gamma = 1. / self.dt\n",
    "        d = np.zeros((self.NX, self.NY))\n",
    "        a = -(c + b + g + f) + gamma\n",
    "        for i in xrange(self.NX):\n",
    "            for j in xrange(elf.NY):\n",
    "                d = gamma * start_phi(convert(i, j))\n",
    "        \n",
    "        # Starting multilinear Gauss-Seidel method\n",
    "        num_steps = float(self.t_max) / self.dt\n",
    "        phi = np.zeros((num_steps + 1, self.NX, self.NY))\n",
    "        # Set start_conditions\n",
    "        for i in xrange(self.NX):\n",
    "            for j in xrange(self.NY):\n",
    "                phi[0][i][j] = start_phi(convert(i, j))\n",
    "        for step in xrange(1, num_steps + 1):\n",
    "            # Set border_conditions\n",
    "            for i in xrange(self.NX):\n",
    "                phi[step][i][0] = border_phi(convert(i, 0), step * self.dt)\n",
    "                phi[step][i][self.NY - 1] = border_phi(convert(i, self.NY - 1), step * self.dt)\n",
    "            for j in xrange(1, self.NY - 1):\n",
    "                phi[step][0][j] = border_phi(convert(0, j), step * self.dt)\n",
    "                phi[step][self.NX - 1][j] = border_phi(convert(self.NX - 1, j), step * self.dt)\n",
    "            # Up\n",
    "            # Thomas algorithm\n",
    "            # p,q - auxillary variables\n",
    "            # r - result vector in matrix equation: d[i][j] - g[i][j]*phi[step][i][j-1] - f[i][j]*phi[step][i][j + 1]\n",
    "            p = q = r = np.zeros(self.NX)\n",
    "            for j in xrange(1, self.NY - 1):\n",
    "                for i in xrange(1, self.NX):\n",
    "                    r[i] = d[i][j] - g[i][j]*phi[step][i][j - 1] - f[i][j]*phi[step - 1][i][j + 1]\n",
    "                    p[i] = b[i][j] / a[i][j] if i == 0 else b[i][j] / (a[i][j] - c[i][j]*p[i - 1])\n",
    "                    q[i] = r[i][j] / a[i][j] if i == 0 else (r[i][j] - c[i][j]) / (a[i][j] - c[i][j] * p[i - 1])\n",
    "                phi[step][self.NX-1][j] = q[self.NX - 1]\n",
    "                for i in xrange(self.NX-2, -1, -1):\n",
    "                    phi[step][i][j] = q[i] - p[i] * phi[step][i + 1][j]\n",
    "            \n",
    "            # Down\n",
    "            for j in xrange(self.NY-2, 0, -1):\n",
    "                for i in xrange(1, self.NX):\n",
    "                    r[i] = d[i][j] - g[i][j]*phi[step - 1][i][j - 1] - f[i][j]*phi[step][i][j + 1]\n",
    "                    p[i] = b[i][j] / a[i][j] if i == 0 else b[i][j] / (a[i][j] - c[i][j]*p[i - 1])\n",
    "                    q[i] = r[i][j] / a[i][j] if i == 0 else (r[i][j] - c[i][j]) / (a[i][j] - c[i][j] * p[i - 1])\n",
    "                phi[step][self.NX-1][j] = q[self.NX - 1]\n",
    "                for i in xrange(self.NX-2, -1, -1):\n",
    "                    phi[step][i][j] = q[i] - p[i] * phi[step][i + 1][j]\n",
    "                    \n",
    "            p = q = r = np.zeros(self.NY)\n",
    "            # Left\n",
    "            for i in xrange(1, self.NX - 1):\n",
    "                for j in xrange(1, self.NY):\n",
    "                    r[j] = d[i][j] - c[i][j]*phi[step][i - 1][j] - b[i][j]*phi[step - 1][i + 1][j]\n",
    "                    p[i] = f[i][j] / a[i][j] if j == 0 else f[i][j] / (a[i][j] - g[i][j]*p[i - 1])\n",
    "                    q[i] = r[i][j] / a[i][j] if i == 0 else (r[i][j] - g[i][j]) / (a[i][j] - g[i][j] * p[i - 1])\n",
    "                phi[step][i][self.NY-1] = q[self.NY - 1]\n",
    "                for j in xrange(self.NY - 2, -1, -1):\n",
    "                    phi[step][i][j] = q[i] - p[i] * phi[step][i][j + 1]\n",
    "            # Right\n",
    "            for i in xrange(self.NX-2, 0, -1):\n",
    "                for j in xrange(1, self.NY):\n",
    "                    r[j] = d[i][j] - c[i][j]*phi[step][i - 1][j] - b[i][j]*phi[step - 1][i + 1][j]\n",
    "                    p[i] = f[i][j] / a[i][j] if j == 0 else f[i][j] / (a[i][j] - g[i][j]*p[i - 1])\n",
    "                    q[i] = r[i][j] / a[i][j] if i == 0 else (r[i][j] - g[i][j]) / (a[i][j] - g[i][j] * p[i - 1])\n",
    "                phi[step][i][self.NY-1] = q[self.NY - 1]\n",
    "                for j in xrange(self.NY - 2, -1, -1):\n",
    "                    phi[step][i][j] = q[i] - p[i] * phi[step][i][j + 1]\n",
    "            # Checking for convergence"
   ]
  },
  {
   "cell_type": "code",
   "execution_count": null,
   "metadata": {
    "collapsed": true
   },
   "outputs": [],
   "source": []
  }
 ],
 "metadata": {
  "kernelspec": {
   "display_name": "Python 2",
   "language": "python",
   "name": "python2"
  },
  "language_info": {
   "codemirror_mode": {
    "name": "ipython",
    "version": 2
   },
   "file_extension": ".py",
   "mimetype": "text/x-python",
   "name": "python",
   "nbconvert_exporter": "python",
   "pygments_lexer": "ipython2",
   "version": "2.7.11"
  }
 },
 "nbformat": 4,
 "nbformat_minor": 0
}
